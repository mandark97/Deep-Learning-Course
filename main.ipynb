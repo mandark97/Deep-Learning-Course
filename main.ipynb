{
 "cells": [
  {
   "cell_type": "code",
   "execution_count": 1,
   "metadata": {
    "_cell_guid": "d769227d-c7e0-4d5d-b75d-6d79b14a25cf",
    "_uuid": "87374d65-4bd6-4854-88bd-9c6a4e04be1a"
   },
   "outputs": [],
   "source": [
    "from sklearn.model_selection import StratifiedKFold\n",
    "\n",
    "from models import *\n",
    "from utils import load_dataset, output_bias\n",
    "from trainer import evaluate_fold"
   ]
  },
  {
   "cell_type": "code",
   "execution_count": 2,
   "metadata": {},
   "outputs": [],
   "source": [
    "NFOLDS = 3\n",
    "INPUT_PATH = 'unibuc-2019-m2-cv'\n",
    "OUTPUT_PATH = ''"
   ]
  },
  {
   "cell_type": "code",
   "execution_count": null,
   "metadata": {},
   "outputs": [],
   "source": [
    "batch_size = 32\n",
    "epochs = 5\n",
    "learning_rate = 0.0005\n",
    "model_name = \"densenet121_v4\"\n",
    "model_klass = densenet_model"
   ]
  },
  {
   "cell_type": "code",
   "execution_count": null,
   "metadata": {},
   "outputs": [],
   "source": [
    "X, y = load_dataset(train_labels_path=f'{INPUT_PATH}/train_labels.txt',\n",
    "                    img_path=f'{INPUT_PATH}/data/data')"
   ]
  },
  {
   "cell_type": "code",
   "execution_count": null,
   "metadata": {},
   "outputs": [],
   "source": [
    "initial_bias = output_bias(y)"
   ]
  },
  {
   "cell_type": "code",
   "execution_count": null,
   "metadata": {},
   "outputs": [],
   "source": [
    "skf = StratifiedKFold(n_splits=NFOLDS, shuffle=True)\n",
    "split_gen = skf.split(X, y)\n",
    "fold = 0"
   ]
  },
  {
   "cell_type": "code",
   "execution_count": 0,
   "metadata": {
    "_cell_guid": "c4dab404-058a-4c7f-a15b-9aaa375fc181",
    "_uuid": "9a293a25-ce13-4183-88cb-fb99c6a34894"
   },
   "outputs": [],
   "source": [
    "train_index, test_index = next(split_gen)"
   ]
  },
  {
   "cell_type": "code",
   "execution_count": null,
   "metadata": {},
   "outputs": [],
   "source": [
    "X_train, X_test = X[train_index], X[test_index]\n",
    "y_train, y_test = y[train_index], y[test_index]\n",
    "\n",
    "print(f\"EVALUATE FOLD {fold}\")\n",
    "evaluate_fold(model_klass=model_klass,\n",
    "                training_data=(X_train, y_train),\n",
    "                test_data=(X_test, y_test),\n",
    "                batch_size=batch_size,\n",
    "                learning_rate=learning_rate,\n",
    "                epochs=epochs,\n",
    "                fold=fold,\n",
    "                output_bias=initial_bias,\n",
    "                output_path=OUTPUT_PATH,\n",
    "                input_path=INPUT_PATH)\n",
    "fold += 1"
   ]
  }
 ],
 "metadata": {
  "kernelspec": {
   "display_name": "Python 3",
   "language": "python",
   "name": "python3"
  },
  "language_info": {
   "codemirror_mode": {
    "name": "ipython",
    "version": 3
   },
   "file_extension": ".py",
   "mimetype": "text/x-python",
   "name": "python",
   "nbconvert_exporter": "python",
   "pygments_lexer": "ipython3",
   "version": "3.6.9"
  }
 },
 "nbformat": 4,
 "nbformat_minor": 1
}