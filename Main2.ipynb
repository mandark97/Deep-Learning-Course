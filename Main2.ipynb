{
 "cells": [
  {
   "cell_type": "code",
   "execution_count": 1,
   "metadata": {},
   "outputs": [
    {
     "name": "stdout",
     "output_type": "stream",
     "text": [
      "Epoch 1/7\n",
      "372/372 - 91s - loss: 2.2579 - accuracy: 0.8508 - f1_score: 0.4532 - val_loss: 0.0000e+00 - val_accuracy: 0.0000e+00 - val_f1_score: 0.0000e+00\n",
      "Epoch 2/7\n",
      "372/372 - 36s - loss: 2.2807 - accuracy: 0.8518 - f1_score: 0.4457 - val_loss: 1.5860 - val_accuracy: 0.8969 - val_f1_score: 0.4473\n",
      "Epoch 3/7\n",
      "372/372 - 37s - loss: 1.7321 - accuracy: 0.8395 - f1_score: 0.3562 - val_loss: 2.7725 - val_accuracy: 0.4594 - val_f1_score: 0.0000e+00\n",
      "Epoch 4/7\n",
      "372/372 - 43s - loss: 0.4055 - accuracy: 0.8453 - f1_score: 0.0000e+00 - val_loss: 0.6922 - val_accuracy: 0.6031 - val_f1_score: 0.0000e+00\n",
      "Epoch 5/7\n",
      "372/372 - 35s - loss: 0.3865 - accuracy: 0.8473 - f1_score: 9.9049e-05 - val_loss: 0.3624 - val_accuracy: 0.8406 - val_f1_score: 0.0000e+00\n",
      "Epoch 6/7\n",
      "372/372 - 36s - loss: 0.3322 - accuracy: 0.8636 - f1_score: 0.0000e+00 - val_loss: 0.2896 - val_accuracy: 0.8719 - val_f1_score: 0.0000e+00\n",
      "Epoch 7/7\n",
      "372/372 - 38s - loss: 0.3152 - accuracy: 0.8684 - f1_score: 0.0000e+00 - val_loss: 0.3298 - val_accuracy: 0.8531 - val_f1_score: 0.0000e+00\n",
      "80/80 [==============================] - 7s 86ms/step - loss: 0.2873 - accuracy: 0.8808 - f1_score: 0.0000e+00\n",
      "[0.28727691220119594, 0.88078433, array([0., 0.], dtype=float32)]\n"
     ]
    }
   ],
   "source": [
    "import numpy as np\n",
    "import tensorflow_addons as tfa\n",
    "\n",
    "import tensorflow as tf\n",
    "# from tensorflow.keras.applications import ResNet50\n",
    "from tensorflow.keras import layers\n",
    "AUTOTUNE = tf.data.experimental.AUTOTUNE\n",
    "\n",
    "\n",
    "def get_label(file_path):\n",
    "    parts = tf.strings.split(file_path, '/')\n",
    "    return parts[-2] == np.array(['0', '1'])\n",
    "\n",
    "\n",
    "def decode_img(img):\n",
    "    img = tf.image.decode_png(img, channels=3)\n",
    "    img = tf.image.convert_image_dtype(img, tf.float32)\n",
    "\n",
    "    return img\n",
    "\n",
    "\n",
    "def process_path(file_path):\n",
    "    label = get_label(file_path)\n",
    "    img = tf.io.read_file(file_path)\n",
    "    img = decode_img(img)\n",
    "\n",
    "    return img, label\n",
    "\n",
    "\n",
    "list_ds = tf.data.Dataset.list_files(\"data/data/*/*\")\n",
    "labeled_ds = list_ds.map(process_path, num_parallel_calls=AUTOTUNE)\n",
    "\n",
    "DATASET_SIZE = 17000\n",
    "\n",
    "train_size = int(0.7 * DATASET_SIZE)\n",
    "val_size = int(0.15 * DATASET_SIZE)\n",
    "test_size = int(0.15 * DATASET_SIZE)\n",
    "\n",
    "full_dataset = labeled_ds.shuffle(5000)\n",
    "train_dataset = full_dataset.take(train_size).batch(32)\n",
    "test_dataset = full_dataset.skip(train_size)\n",
    "val_dataset = test_dataset.skip(val_size).batch(32)\n",
    "test_dataset = test_dataset.take(test_size).batch(32)\n",
    "IMAGE_SIZE = 224\n",
    "\n",
    "head = tf.keras.Sequential()\n",
    "head.add(layers.Conv2D(32, (3, 3), input_shape=(IMAGE_SIZE, IMAGE_SIZE, 3)))\n",
    "head.add(layers.BatchNormalization())\n",
    "head.add(layers.Activation('relu'))\n",
    "head.add(layers.MaxPooling2D(pool_size=(2, 2)))\n",
    "\n",
    "head.add(layers.Conv2D(32, (3, 3)))\n",
    "head.add(layers.BatchNormalization())\n",
    "head.add(layers.Activation('relu'))\n",
    "head.add(layers.MaxPooling2D(pool_size=(2, 2)))\n",
    "\n",
    "head.add(layers.Conv2D(64, (3, 3)))\n",
    "head.add(layers.BatchNormalization())\n",
    "head.add(layers.Activation('relu'))\n",
    "head.add(layers.MaxPooling2D(pool_size=(2, 2)))\n",
    "\n",
    "average_pool = tf.keras.Sequential()\n",
    "average_pool.add(layers.AveragePooling2D())\n",
    "average_pool.add(layers.Flatten())\n",
    "average_pool.add(layers.Dense(2, activation='softmax'))\n",
    "\n",
    "standard_model = tf.keras.Sequential([\n",
    "    head,\n",
    "    average_pool\n",
    "])\n",
    "\n",
    "\n",
    "standard_model.compile(optimizer=tf.keras.optimizers.Adam(),\n",
    "                       loss='binary_crossentropy',\n",
    "                       metrics=['accuracy', tfa.metrics.F1Score(num_classes=2, average=None)])\n",
    "callbacks = [tf.keras.callbacks.TensorBoard(\n",
    "    log_dir='./log/standard_model', update_freq='batch')]\n",
    "\n",
    "standard_model.fit(train_dataset, epochs=7,\n",
    "                   validation_data=val_dataset, validation_steps=10, verbose=2, callbacks=callbacks)\n",
    "\n",
    "score = standard_model.evaluate(test_dataset)\n",
    "print(score)"
   ]
  },
  {
   "cell_type": "code",
   "execution_count": 2,
   "metadata": {},
   "outputs": [],
   "source": [
    "list_ds = tf.data.Dataset.list_files(\"data/test/*\")"
   ]
  },
  {
   "cell_type": "code",
   "execution_count": 3,
   "metadata": {},
   "outputs": [],
   "source": [
    "def process_test_path(file_path):\n",
    "    img = tf.io.read_file(file_path)\n",
    "    img = decode_img(img)\n",
    "\n",
    "    return img, [True, False]\n",
    "test_ds = list_ds.map(process_test_path, num_parallel_calls=AUTOTUNE)"
   ]
  },
  {
   "cell_type": "code",
   "execution_count": 4,
   "metadata": {},
   "outputs": [
    {
     "data": {
      "text/plain": [
       "<DatasetV1Adapter shapes: ((None, None, None, 3), (None, 2)), types: (tf.float32, tf.bool)>"
      ]
     },
     "execution_count": 4,
     "metadata": {},
     "output_type": "execute_result"
    }
   ],
   "source": [
    "train_dataset"
   ]
  },
  {
   "cell_type": "code",
   "execution_count": 5,
   "metadata": {},
   "outputs": [
    {
     "data": {
      "text/plain": [
       "<DatasetV1Adapter shapes: ((None, None, None, 3), (None, 2)), types: (tf.float32, tf.bool)>"
      ]
     },
     "execution_count": 5,
     "metadata": {},
     "output_type": "execute_result"
    }
   ],
   "source": [
    "test_ds.batch(32)"
   ]
  },
  {
   "cell_type": "code",
   "execution_count": 6,
   "metadata": {},
   "outputs": [],
   "source": [
    "y = standard_model.predict(test_ds.batch(32))"
   ]
  },
  {
   "cell_type": "code",
   "execution_count": 8,
   "metadata": {},
   "outputs": [],
   "source": [
    "import pandas as pd"
   ]
  },
  {
   "cell_type": "code",
   "execution_count": 10,
   "metadata": {},
   "outputs": [],
   "source": [
    "ans_df = pd.DataFrame({'id': [f\"{'0'* (6-len(str(x)))}{x}\" for x in range(17001,22150)], \n",
    "                              'class': np.argmax(y, axis=1)})"
   ]
  },
  {
   "cell_type": "code",
   "execution_count": 13,
   "metadata": {},
   "outputs": [],
   "source": [
    "ans_df.to_csv('ans.csv', index=False)"
   ]
  },
  {
   "cell_type": "code",
   "execution_count": null,
   "metadata": {},
   "outputs": [],
   "source": []
  }
 ],
 "metadata": {
  "kernelspec": {
   "display_name": "Python 3",
   "language": "python",
   "name": "python3"
  },
  "language_info": {
   "codemirror_mode": {
    "name": "ipython",
    "version": 3
   },
   "file_extension": ".py",
   "mimetype": "text/x-python",
   "name": "python",
   "nbconvert_exporter": "python",
   "pygments_lexer": "ipython3",
   "version": "3.6.8"
  }
 },
 "nbformat": 4,
 "nbformat_minor": 2
}
