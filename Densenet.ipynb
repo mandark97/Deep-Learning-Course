{
 "cells": [
  {
   "cell_type": "code",
   "execution_count": 1,
   "metadata": {
    "_cell_guid": "d769227d-c7e0-4d5d-b75d-6d79b14a25cf",
    "_uuid": "87374d65-4bd6-4854-88bd-9c6a4e04be1a"
   },
   "outputs": [],
   "source": [
    "import json\n",
    "\n",
    "from keras import backend as K\n",
    "from keras.callbacks import EarlyStopping, ModelCheckpoint\n",
    "from keras.metrics import (AUC, BinaryAccuracy, FalseNegatives, FalsePositives,\n",
    "                           Precision, Recall, TrueNegatives, TruePositives)\n",
    "from sklearn.metrics import confusion_matrix\n",
    "from sklearn.model_selection import StratifiedKFold\n",
    "\n",
    "from models import *\n",
    "from utils import *"
   ]
  },
  {
   "cell_type": "code",
   "execution_count": 2,
   "metadata": {},
   "outputs": [],
   "source": [
    "NFOLDS = 3\n",
    "INPUT_PATH = '/unibuc-2019-m2-cv'\n",
    "OUTPUT_PATH = ''"
   ]
  },
  {
   "cell_type": "code",
   "execution_count": null,
   "metadata": {},
   "outputs": [],
   "source": [
    "batch_size = 32\n",
    "epochs = 5\n",
    "learning_rate = 0.0005\n",
    "model_name = \"densenet121_v4\""
   ]
  },
  {
   "cell_type": "code",
   "execution_count": null,
   "metadata": {},
   "outputs": [],
   "source": [
    "X, y = load_dataset(train_labels_path=f'{INPUT_PATH}/train_labels.txt',\n",
    "                    img_path=f'{INPUT_PATH}/data/data')"
   ]
  },
  {
   "cell_type": "code",
   "execution_count": null,
   "metadata": {},
   "outputs": [],
   "source": [
    "initial_bias = output_bias(y)"
   ]
  },
  {
   "cell_type": "code",
   "execution_count": null,
   "metadata": {},
   "outputs": [],
   "source": [
    "skf = StratifiedKFold(n_splits=NFOLDS, shuffle=True)\n",
    "split_gen = skf.split(X, y)\n",
    "fold = 0"
   ]
  },
  {
   "cell_type": "code",
   "execution_count": null,
   "metadata": {},
   "outputs": [],
   "source": [
    "def evaluate_fold(model_klass, train_index, test_index, fold, output_bias=None, path=OUTPUT_PATH):\n",
    "    print(f\"START FOR FOLD {fold}\")\n",
    "    X_train, X_test = X[train_index], X[test_index]\n",
    "    y_train, y_test = y[train_index], y[test_index]\n",
    "\n",
    "    K.clear_session()\n",
    "    metrics = [\n",
    "        TruePositives(name='tp'),\n",
    "        FalsePositives(name='fp'),\n",
    "        TrueNegatives(name='tn'),\n",
    "        FalseNegatives(name='fn'),\n",
    "        BinaryAccuracy(name='accuracy'),\n",
    "        Precision(name='precision'),\n",
    "        Recall(name='recall'),\n",
    "        AUC(name='auc'),\n",
    "        f1\n",
    "    ]\n",
    "    callbacks = [\n",
    "        ModelCheckpoint(\n",
    "            f'{path}/{fold}_checkpoint.h5', monitor='val_auc', save_best_only=True, mode='max'),\n",
    "        EarlyStopping(monitor='val_auc', patience=3, verbose=1,\n",
    "                      restore_best_weights=True, mode='max'),\n",
    "    ]\n",
    "    model = model_klass(learning_rate=learning_rate,\n",
    "                        metrics=metrics, output_bias=output_bias)\n",
    "\n",
    "    history = model.fit(X_train, y_train,\n",
    "                        batch_size=batch_size,\n",
    "                        epochs=epochs,\n",
    "                        validation_split=0.15,\n",
    "                        verbose=1,\n",
    "                        callbacks=callbacks)\n",
    "    plot_metrics(history, savefig=f'{path}/metrics{fold}.png')\n",
    "\n",
    "    scores = model.evaluate(X_test, y_test, batch_size=batch_size)\n",
    "    metrics = dict(zip(model.metrics_names, scores))\n",
    "    print(metrics)\n",
    "    with open(f'{path}/metrics{fold}.json', 'w') as json_file:\n",
    "        json.dump(metrics, json_file)\n",
    "\n",
    "    model.save(f'{path}/fold{fold}.h5')\n",
    "\n",
    "    y_pred = model.predict(X_test, batch_size=batch_size)\n",
    "    y_pred = parse_predict(y_pred)\n",
    "\n",
    "    conf_matrix = confusion_matrix(y_test, y_pred)\n",
    "    print(conf_matrix)\n",
    "\n",
    "    plot_confusion_matrix(conf_matrix, ['0', '1'],\n",
    "                          title=f'Confusion Matrix fold {fold}',\n",
    "                          savefig=f'{path}/conf_matrix_fold{fold}.png')\n",
    "    run_test_data(model, f'{path}/{fold}.csv',\n",
    "                  img_path=f'{INPUT_PATH}/data/data')"
   ]
  },
  {
   "cell_type": "code",
   "execution_count": 0,
   "metadata": {
    "_cell_guid": "c4dab404-058a-4c7f-a15b-9aaa375fc181",
    "_uuid": "9a293a25-ce13-4183-88cb-fb99c6a34894"
   },
   "outputs": [],
   "source": [
    "train_index, test_index = next(split_gen)"
   ]
  },
  {
   "cell_type": "code",
   "execution_count": 0,
   "metadata": {
    "_cell_guid": "8308d74a-2e3b-4161-be97-36fb6300aaf0",
    "_uuid": "68bfb055-4a8e-41e1-8866-72968d6ba953"
   },
   "outputs": [],
   "source": [
    "evaluate_fold(model_klass=densenet_model,\n",
    "              train_index=train_index, \n",
    "              test_index=test_index, \n",
    "              fold=fold,\n",
    "              output_bias=initial_bias)\n",
    "fold +=1"
   ]
  },
  {
   "cell_type": "code",
   "execution_count": 0,
   "metadata": {
    "_cell_guid": "627ac905-8be5-44d9-9fe1-717a2da42ba1",
    "_uuid": "0338acc6-bfab-469d-9a04-43663040eaae"
   },
   "outputs": [],
   "source": [
    "train_index, test_index = next(split_gen)"
   ]
  },
  {
   "cell_type": "code",
   "execution_count": 0,
   "metadata": {
    "_cell_guid": "53ab59b5-dc79-4190-b8c9-f7f7820a07cc",
    "_uuid": "18d4f569-c8c6-4770-b1d5-e316c9d44b2e"
   },
   "outputs": [],
   "source": [
    "evaluate_fold(model_klass=densenet_model,\n",
    "              train_index=train_index, \n",
    "              test_index=test_index, \n",
    "              fold=fold,\n",
    "              output_bias=initial_bias)\n",
    "fold +=1"
   ]
  },
  {
   "cell_type": "code",
   "execution_count": 0,
   "metadata": {
    "_cell_guid": "d9aec062-bc8b-449e-bf70-f80dd38044f1",
    "_uuid": "290bc893-6d16-4da2-b0da-8480cc1d0f48"
   },
   "outputs": [],
   "source": [
    "train_index, test_index = next(split_gen)"
   ]
  },
  {
   "cell_type": "code",
   "execution_count": 0,
   "metadata": {
    "_cell_guid": "cb4282d2-666c-4754-86cc-3ba733b58fe0",
    "_uuid": "b2f4bcc5-73bc-40b0-b5f2-26f31b0428b5"
   },
   "outputs": [],
   "source": [
    "evaluate_fold(model_klass=densenet_model,\n",
    "              train_index=train_index, \n",
    "              test_index=test_index, \n",
    "              fold=fold,\n",
    "              output_bias=initial_bias)\n",
    "fold +=1"
   ]
  }
 ],
 "metadata": {
  "kernelspec": {
   "display_name": "Python 3",
   "language": "python",
   "name": "python3"
  },
  "language_info": {
   "codemirror_mode": {
    "name": "ipython",
    "version": 3
   },
   "file_extension": ".py",
   "mimetype": "text/x-python",
   "name": "python",
   "nbconvert_exporter": "python",
   "pygments_lexer": "ipython3",
   "version": "3.6.9"
  }
 },
 "nbformat": 4,
 "nbformat_minor": 1
}
